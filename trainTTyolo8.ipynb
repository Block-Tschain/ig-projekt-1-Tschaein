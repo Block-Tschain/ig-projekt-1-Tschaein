{
  "nbformat": 4,
  "nbformat_minor": 0,
  "metadata": {
    "colab": {
      "provenance": [],
      "gpuType": "T4"
    },
    "kernelspec": {
      "name": "python3",
      "display_name": "Python 3"
    },
    "language_info": {
      "name": "python"
    },
    "accelerator": "GPU"
  },
  "cells": [
    {
      "cell_type": "markdown",
      "source": [
        "# Tension Terminator Model Trainer"
      ],
      "metadata": {
        "id": "3uS09ZNwKECB"
      }
    },
    {
      "cell_type": "markdown",
      "source": [
        "## Set global variables"
      ],
      "metadata": {
        "id": "v6oOLqn3KHhd"
      }
    },
    {
      "cell_type": "code",
      "source": [
        "# Set Variables\n",
        "BASE_MODEL = \"yolov8s\"\n",
        "TRAIN_EPOCHS = 100\n",
        "TRAIN_SIZE = 320\n",
        "\n",
        "TT_PROJECTNAME = \"TensionTerminator\""
      ],
      "metadata": {
        "id": "53bk4AfDHgwC"
      },
      "execution_count": 1,
      "outputs": []
    },
    {
      "cell_type": "markdown",
      "source": [
        "## Mount Google Drive to backup files"
      ],
      "metadata": {
        "id": "XPUOtYhhKNlB"
      }
    },
    {
      "cell_type": "code",
      "source": [
        "# Mount Google Drive\n",
        "from google.colab import drive\n",
        "import os\n",
        "\n",
        "drive.mount('/content/drive')\n",
        "\n",
        "google_drive_target_folder = '/content/drive/My Drive/'+TT_PROJECTNAME+'/'\n",
        "# Check if the target folder exists in Google Drive, create if it doesn't\n",
        "print(\"\\n\\info\")\n",
        "if not os.path.exists(google_drive_target_folder):\n",
        "    os.makedirs(google_drive_target_folder)\n",
        "    print(f\"Created folder: {google_drive_target_folder}\")\n",
        "print(\"Google Drive Target Folder: \" + google_drive_target_folder)"
      ],
      "metadata": {
        "id": "omxpCI1T8LQW"
      },
      "execution_count": null,
      "outputs": []
    },
    {
      "cell_type": "markdown",
      "source": [
        "# Install Dependencies"
      ],
      "metadata": {
        "id": "MeqSTqCHJ-G_"
      }
    },
    {
      "cell_type": "code",
      "source": [
        "pip install ultralytics"
      ],
      "metadata": {
        "id": "kJrqKRf8ij3M"
      },
      "execution_count": null,
      "outputs": []
    },
    {
      "cell_type": "code",
      "source": [
        "!pip install roboflow"
      ],
      "metadata": {
        "id": "4soDdxAsimIQ"
      },
      "execution_count": null,
      "outputs": []
    },
    {
      "cell_type": "markdown",
      "source": [
        "## Python imports"
      ],
      "metadata": {
        "id": "yx-ImOF_MRC2"
      }
    },
    {
      "cell_type": "code",
      "source": [
        "import os\n",
        "import random\n",
        "import yaml\n",
        "import shutil\n",
        "from ultralytics import YOLO\n",
        "from roboflow import Roboflow\n",
        "from google.colab import userdata, files\n",
        "from datetime import datetime"
      ],
      "metadata": {
        "id": "FDcSiZ21MOpM"
      },
      "execution_count": null,
      "outputs": []
    },
    {
      "cell_type": "markdown",
      "source": [
        "## Loading dataset to train on"
      ],
      "metadata": {
        "id": "lkt08WKPKVZX"
      }
    },
    {
      "cell_type": "code",
      "source": [
        "secret_key = userdata.get('rb-key')\n",
        "rf = Roboflow(api_key=secret_key)\n",
        "project = rf.workspace(\"juzaworkspace\").project(\"overheadpersondetection\")\n",
        "dataset = project.version(3).download(\"yolov8\")\n",
        "DATASET_DIR = dataset.location\n",
        "DATA_YAML = DATASET_DIR + \"/data.yaml\"\n",
        "print(\"\\n\\info\")\n",
        "print(\"Data saved to: \" + DATASET_DIR)\n",
        "print(\"Data YAML: \" + DATA_YAML)"
      ],
      "metadata": {
        "id": "lFEk9XpFiXNB"
      },
      "execution_count": null,
      "outputs": []
    },
    {
      "cell_type": "markdown",
      "source": [
        "There is a bug in the data.yaml of robfolow yolov7. This script corrects it."
      ],
      "metadata": {
        "id": "M01um3xKBUtk"
      }
    },
    {
      "cell_type": "code",
      "source": [
        "# corrects the folders in the data.yaml\n",
        "\n",
        "# Path to the YAML file\n",
        "yaml_file_path = DATASET_DIR + 'data.yaml'\n",
        "\n",
        "# Read the YAML file\n",
        "with open(DATA_YAML) as file:\n",
        "    data = yaml.safe_load(file)\n",
        "\n",
        "# Update the paths\n",
        "data['train'] = DATASET_DIR + '/train/images'\n",
        "data['val'] = DATASET_DIR + '/valid/images'\n",
        "data['test'] = DATASET_DIR + '/test/images'\n",
        "\n",
        "# Write the updated data back to the YAML file\n",
        "with open(DATA_YAML, 'w') as file:\n",
        "    yaml.dump(data, file)\n",
        "\n",
        "print(\"Updated data.yaml successfully.\")\n"
      ],
      "metadata": {
        "id": "8RgOQlxZBT2_"
      },
      "execution_count": null,
      "outputs": []
    },
    {
      "cell_type": "markdown",
      "source": [
        "## Train a new model"
      ],
      "metadata": {
        "id": "9umqRYP3sLjn"
      }
    },
    {
      "cell_type": "code",
      "source": [
        "# Variables already set, but u can run to re-train just this cell and modify the vars\n",
        "#TRAIN_MODEL = \"yolov8s\"\n",
        "#TRAIN_EPOCHS = 1\n",
        "#TRAIN_SIZE = 320\n",
        "\n",
        "# Load a model\n",
        "modelpt = BASE_MODEL + \".pt\"\n",
        "model = YOLO(modelpt)  # load a pretrained model (recommended for training)\n",
        "\n",
        "# train the model\n",
        "model.train(data=DATA_YAML, epochs=TRAIN_EPOCHS, imgsz=TRAIN_SIZE)"
      ],
      "metadata": {
        "id": "sqljRZ8EsKjA"
      },
      "execution_count": null,
      "outputs": []
    },
    {
      "cell_type": "markdown",
      "source": [
        "## Save the model to Google Drive"
      ],
      "metadata": {
        "id": "LutxsbCrrMkN"
      }
    },
    {
      "cell_type": "code",
      "source": [
        "# Define the base directory where the runs are stored\n",
        "base_dir = '/content/runs/detect/'\n",
        "\n",
        "# Find the latest run directory\n",
        "latest_run_dir = max([os.path.join(base_dir, d) for d in os.listdir(base_dir) if os.path.isdir(os.path.join(base_dir, d))], key=os.path.getmtime)\n",
        "\n",
        "# Construct the path to the best weights file\n",
        "TRAINED_WEIGHTS = os.path.join(latest_run_dir, 'weights/best.pt')\n",
        "print(TRAINED_WEIGHTS)"
      ],
      "metadata": {
        "id": "h6pS3fVvrMkN"
      },
      "execution_count": null,
      "outputs": []
    },
    {
      "cell_type": "code",
      "source": [
        "# Define the base directory where the runs are stored\n",
        "base_dir = '/content/runs/detect/'\n",
        "\n",
        "# Find the latest run directory\n",
        "latest_run_dir = max([os.path.join(base_dir, d) for d in os.listdir(base_dir) if os.path.isdir(os.path.join(base_dir, d))], key=os.path.getmtime)\n",
        "\n",
        "# Construct the path to the best weights file\n",
        "TRAINED_WEIGHTS = os.path.join(latest_run_dir, 'weights/best.pt')\n",
        "print(\"Original trained weights path: \", TRAINED_WEIGHTS)\n",
        "\n",
        "# Get the current timestamp\n",
        "timestamp = datetime.now().strftime(\"%Y%m%d_%H%M%S\")\n",
        "\n",
        "# Construct the new file name with timestamp\n",
        "new_file_name = f\"TTmodel_{BASE_MODEL}_{timestamp}.pt\"\n",
        "new_file_path = os.path.join(latest_run_dir, 'weights', new_file_name)\n",
        "\n",
        "# Copy the file with timestamp in the same directory\n",
        "shutil.copy2(TRAINED_WEIGHTS, new_file_path)\n",
        "print(\"New file path with timestamp: \", new_file_path)\n",
        "\n",
        "# Make sure the target folder exists\n",
        "if not os.path.exists(google_drive_target_folder):\n",
        "    os.makedirs(google_drive_target_folder)\n",
        "\n",
        "# Construct the target file path in Google Drive\n",
        "google_drive_target_path = os.path.join(google_drive_target_folder, new_file_name)\n",
        "\n",
        "# Copy the file to Google Drive\n",
        "shutil.copy2(new_file_path, google_drive_target_path)\n",
        "print(\"File copied to Google Drive: \", google_drive_target_path)\n"
      ],
      "metadata": {
        "id": "OYruaz-4DOfe"
      },
      "execution_count": null,
      "outputs": []
    },
    {
      "cell_type": "markdown",
      "source": [
        "## Evaluate Performance"
      ],
      "metadata": {
        "id": "z65WQBe3JkZL"
      }
    },
    {
      "cell_type": "code",
      "source": [
        "# Evaluate the model's performance on the validation set\n",
        "metrics = model.val()  # no arguments needed, dataset and settings remembered\n",
        "metrics.box.map    # map50-95\n",
        "metrics.box.map50  # map50\n",
        "metrics.box.map75  # map75\n",
        "metrics.box.maps   # a list contains map50-95 of each category"
      ],
      "metadata": {
        "id": "cmSPKakImEdC"
      },
      "execution_count": null,
      "outputs": []
    },
    {
      "cell_type": "markdown",
      "source": [
        "Testing on 3 random files"
      ],
      "metadata": {
        "id": "GtE7ahQtL4xQ"
      }
    },
    {
      "cell_type": "code",
      "source": [
        "# Define the path to the test images directory\n",
        "test_images_dir = DATASET_DIR + \"/test/images\"\n",
        "\n",
        "# Get a list of all files in the test images directory\n",
        "all_test_images = os.listdir(test_images_dir)\n",
        "\n",
        "# Randomly select 3 images\n",
        "random_test_images = random.sample(all_test_images, 3)\n",
        "\n",
        "# Predict on each of the 3 random images\n",
        "for image_name in random_test_images:\n",
        "    image_path = os.path.join(test_images_dir, image_name)\n",
        "    results = model(image_path)  # Perform prediction\n",
        "    print(f\"Results for {image_name}:\")\n",
        "    print(results)  # or use results.show() or results.save() based on your requirement\n",
        "\n",
        "    # Optional: display the image with predictions\n",
        "    # results.show()\n"
      ],
      "metadata": {
        "id": "nvHKjSONJjrx"
      },
      "execution_count": null,
      "outputs": []
    },
    {
      "cell_type": "code",
      "source": [
        "#metrics = model.val()  # evaluate model performance on the validation set\n",
        "#results = model(\"/content/OverheadPersonDetection-3/test/images/test_000010_0774_right_png.rf.928e885b5917efafe8edefaeb37e2500.jpg\")  # predict on an image\n",
        "#path = model.export(format=\"onnx\")  # export the model to ONNX format"
      ],
      "metadata": {
        "id": "nzADjAsWtfs-"
      },
      "execution_count": null,
      "outputs": []
    },
    {
      "cell_type": "code",
      "source": [
        "#from ultralytics.utils.benchmarks import benchmark\n",
        "\n",
        "# Benchmark on GPU\n",
        "#benchmark(model=TRAINED_WEIGHTS, data=TRAIN_DATA, imgsz=TRAIN_SIZE, half=False, device=0)"
      ],
      "metadata": {
        "id": "3v9whET5mdAo"
      },
      "execution_count": null,
      "outputs": []
    },
    {
      "cell_type": "markdown",
      "source": [
        "# END"
      ],
      "metadata": {
        "id": "34x81CVAMrQ3"
      }
    }
  ]
}